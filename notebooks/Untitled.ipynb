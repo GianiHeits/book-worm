{
 "cells": [
  {
   "cell_type": "code",
   "execution_count": 1,
   "id": "a310fc50-717f-4257-85c1-297129554cf9",
   "metadata": {},
   "outputs": [
    {
     "name": "stderr",
     "output_type": "stream",
     "text": [
      "/Users/dancostin/Repos/book-worm/.venv/lib/python3.10/site-packages/tqdm/auto.py:21: TqdmWarning: IProgress not found. Please update jupyter and ipywidgets. See https://ipywidgets.readthedocs.io/en/stable/user_install.html\n",
      "  from .autonotebook import tqdm as notebook_tqdm\n"
     ]
    }
   ],
   "source": [
    "import re\n",
    "import json\n",
    "from typing import Optional\n",
    "\n",
    "import spacy\n",
    "import numpy as np\n",
    "from sentence_transformers import SentenceTransformer, util\n",
    "from llama_cpp import Llama, LogitsProcessorList\n",
    "from lmformatenforcer import CharacterLevelParser, JsonSchemaParser\n",
    "from lmformatenforcer.integrations.llamacpp import build_llamacpp_logits_processor, build_token_enforcer_tokenizer_data\n",
    "\n",
    "from src.utils.lexrank import degree_centrality_scores\n",
    "from src.utils.prompts import get_summarization_prompt, get_question_prompt\n",
    "\n",
    "from langchain.embeddings import HuggingFaceEmbeddings\n",
    "from langchain_community.document_loaders import TextLoader\n",
    "from langchain_text_splitters import CharacterTextSplitter\n",
    "from langchain_community.vectorstores import Chroma\n",
    "\n",
    "\n",
    "SENTENCE_TRANSFORMERS_HOME=\"./models/embeddings\"\n",
    "MODEL_PATH = \"models/llama-2-13b-chat.Q2_K.gguf\"\n",
    "EMBEDDING_MODEL_PATH = \"all-mpnet-base-v2\"\n"
   ]
  },
  {
   "cell_type": "code",
   "execution_count": 2,
   "id": "fd77e34f-56fc-4ee8-ba9d-3bcddaa626ef",
   "metadata": {},
   "outputs": [],
   "source": [
    "embedding_model = HuggingFaceEmbeddings(\n",
    "    model_name=EMBEDDING_MODEL_PATH,\n",
    "    cache_folder=SENTENCE_TRANSFORMERS_HOME\n",
    ")"
   ]
  },
  {
   "cell_type": "code",
   "execution_count": 3,
   "id": "9a4631b5-b9a2-45e9-8a27-bfbfcfbabefe",
   "metadata": {},
   "outputs": [],
   "source": [
    "raw_documents = TextLoader('books/MarcusAurelius.txt').load()"
   ]
  },
  {
   "cell_type": "code",
   "execution_count": 4,
   "id": "2ba57f0e-e1eb-4729-88d9-57c259ea249f",
   "metadata": {
    "scrolled": true
   },
   "outputs": [
    {
     "name": "stderr",
     "output_type": "stream",
     "text": [
      "Created a chunk of size 2180, which is longer than the specified 1000\n",
      "Created a chunk of size 2625, which is longer than the specified 1000\n",
      "Created a chunk of size 1202, which is longer than the specified 1000\n",
      "Created a chunk of size 1805, which is longer than the specified 1000\n",
      "Created a chunk of size 1993, which is longer than the specified 1000\n",
      "Created a chunk of size 1143, which is longer than the specified 1000\n",
      "Created a chunk of size 2900, which is longer than the specified 1000\n",
      "Created a chunk of size 2598, which is longer than the specified 1000\n",
      "Created a chunk of size 1819, which is longer than the specified 1000\n",
      "Created a chunk of size 1224, which is longer than the specified 1000\n",
      "Created a chunk of size 1063, which is longer than the specified 1000\n",
      "Created a chunk of size 1215, which is longer than the specified 1000\n",
      "Created a chunk of size 1037, which is longer than the specified 1000\n",
      "Created a chunk of size 1104, which is longer than the specified 1000\n",
      "Created a chunk of size 1045, which is longer than the specified 1000\n",
      "Created a chunk of size 5274, which is longer than the specified 1000\n",
      "Created a chunk of size 4175, which is longer than the specified 1000\n",
      "Created a chunk of size 1151, which is longer than the specified 1000\n",
      "Created a chunk of size 1181, which is longer than the specified 1000\n",
      "Created a chunk of size 1706, which is longer than the specified 1000\n",
      "Created a chunk of size 1241, which is longer than the specified 1000\n",
      "Created a chunk of size 1519, which is longer than the specified 1000\n",
      "Created a chunk of size 1102, which is longer than the specified 1000\n",
      "Created a chunk of size 1378, which is longer than the specified 1000\n",
      "Created a chunk of size 1300, which is longer than the specified 1000\n",
      "Created a chunk of size 1878, which is longer than the specified 1000\n",
      "Created a chunk of size 1162, which is longer than the specified 1000\n",
      "Created a chunk of size 3334, which is longer than the specified 1000\n",
      "Created a chunk of size 2163, which is longer than the specified 1000\n",
      "Created a chunk of size 1125, which is longer than the specified 1000\n",
      "Created a chunk of size 1080, which is longer than the specified 1000\n",
      "Created a chunk of size 1378, which is longer than the specified 1000\n",
      "Created a chunk of size 3998, which is longer than the specified 1000\n",
      "Created a chunk of size 1024, which is longer than the specified 1000\n",
      "Created a chunk of size 1723, which is longer than the specified 1000\n",
      "Created a chunk of size 1405, which is longer than the specified 1000\n",
      "Created a chunk of size 1002, which is longer than the specified 1000\n",
      "Created a chunk of size 1019, which is longer than the specified 1000\n",
      "Created a chunk of size 1446, which is longer than the specified 1000\n",
      "Created a chunk of size 1270, which is longer than the specified 1000\n",
      "Created a chunk of size 1605, which is longer than the specified 1000\n",
      "Created a chunk of size 1294, which is longer than the specified 1000\n",
      "Created a chunk of size 1029, which is longer than the specified 1000\n",
      "Created a chunk of size 1977, which is longer than the specified 1000\n",
      "Created a chunk of size 1288, which is longer than the specified 1000\n",
      "Created a chunk of size 1852, which is longer than the specified 1000\n",
      "Created a chunk of size 3319, which is longer than the specified 1000\n",
      "Created a chunk of size 3043, which is longer than the specified 1000\n",
      "Created a chunk of size 1377, which is longer than the specified 1000\n",
      "Created a chunk of size 1581, which is longer than the specified 1000\n",
      "Created a chunk of size 1175, which is longer than the specified 1000\n",
      "Created a chunk of size 1016, which is longer than the specified 1000\n",
      "Created a chunk of size 1810, which is longer than the specified 1000\n",
      "Created a chunk of size 1304, which is longer than the specified 1000\n",
      "Created a chunk of size 1029, which is longer than the specified 1000\n",
      "Created a chunk of size 1331, which is longer than the specified 1000\n",
      "Created a chunk of size 1027, which is longer than the specified 1000\n",
      "Created a chunk of size 1039, which is longer than the specified 1000\n",
      "Created a chunk of size 2363, which is longer than the specified 1000\n",
      "Created a chunk of size 1639, which is longer than the specified 1000\n",
      "Created a chunk of size 1392, which is longer than the specified 1000\n",
      "Created a chunk of size 1814, which is longer than the specified 1000\n",
      "Created a chunk of size 1248, which is longer than the specified 1000\n",
      "Created a chunk of size 1473, which is longer than the specified 1000\n",
      "Created a chunk of size 1140, which is longer than the specified 1000\n",
      "Created a chunk of size 1237, which is longer than the specified 1000\n",
      "Created a chunk of size 1572, which is longer than the specified 1000\n",
      "Created a chunk of size 1045, which is longer than the specified 1000\n",
      "Created a chunk of size 1083, which is longer than the specified 1000\n",
      "Created a chunk of size 2294, which is longer than the specified 1000\n",
      "Created a chunk of size 1137, which is longer than the specified 1000\n",
      "Created a chunk of size 1547, which is longer than the specified 1000\n",
      "Created a chunk of size 1451, which is longer than the specified 1000\n",
      "Created a chunk of size 1049, which is longer than the specified 1000\n",
      "Created a chunk of size 1583, which is longer than the specified 1000\n",
      "Created a chunk of size 1364, which is longer than the specified 1000\n",
      "Created a chunk of size 1853, which is longer than the specified 1000\n",
      "Created a chunk of size 1389, which is longer than the specified 1000\n",
      "Created a chunk of size 1136, which is longer than the specified 1000\n",
      "Created a chunk of size 1284, which is longer than the specified 1000\n",
      "Created a chunk of size 1111, which is longer than the specified 1000\n",
      "Created a chunk of size 1468, which is longer than the specified 1000\n",
      "Created a chunk of size 1172, which is longer than the specified 1000\n",
      "Created a chunk of size 1027, which is longer than the specified 1000\n",
      "Created a chunk of size 3277, which is longer than the specified 1000\n",
      "Created a chunk of size 1975, which is longer than the specified 1000\n",
      "Created a chunk of size 2726, which is longer than the specified 1000\n",
      "Created a chunk of size 1290, which is longer than the specified 1000\n",
      "Created a chunk of size 1294, which is longer than the specified 1000\n",
      "Created a chunk of size 1668, which is longer than the specified 1000\n",
      "Created a chunk of size 1229, which is longer than the specified 1000\n",
      "Created a chunk of size 3157, which is longer than the specified 1000\n",
      "Created a chunk of size 1480, which is longer than the specified 1000\n",
      "Created a chunk of size 1857, which is longer than the specified 1000\n",
      "Created a chunk of size 2881, which is longer than the specified 1000\n",
      "Created a chunk of size 3330, which is longer than the specified 1000\n",
      "Created a chunk of size 1448, which is longer than the specified 1000\n",
      "Created a chunk of size 1150, which is longer than the specified 1000\n",
      "Created a chunk of size 3087, which is longer than the specified 1000\n",
      "Created a chunk of size 1614, which is longer than the specified 1000\n",
      "Created a chunk of size 1732, which is longer than the specified 1000\n",
      "Created a chunk of size 1995, which is longer than the specified 1000\n",
      "Created a chunk of size 1669, which is longer than the specified 1000\n",
      "Created a chunk of size 1001, which is longer than the specified 1000\n",
      "Created a chunk of size 1141, which is longer than the specified 1000\n",
      "Created a chunk of size 5832, which is longer than the specified 1000\n",
      "Created a chunk of size 1618, which is longer than the specified 1000\n",
      "Created a chunk of size 1095, which is longer than the specified 1000\n",
      "Created a chunk of size 1493, which is longer than the specified 1000\n",
      "Created a chunk of size 2029, which is longer than the specified 1000\n",
      "Created a chunk of size 1179, which is longer than the specified 1000\n",
      "Created a chunk of size 1162, which is longer than the specified 1000\n",
      "Created a chunk of size 1011, which is longer than the specified 1000\n",
      "Created a chunk of size 1590, which is longer than the specified 1000\n",
      "Created a chunk of size 1149, which is longer than the specified 1000\n",
      "Created a chunk of size 1011, which is longer than the specified 1000\n",
      "Created a chunk of size 1089, which is longer than the specified 1000\n",
      "Created a chunk of size 1047, which is longer than the specified 1000\n",
      "Created a chunk of size 1548, which is longer than the specified 1000\n",
      "Created a chunk of size 1740, which is longer than the specified 1000\n",
      "Created a chunk of size 1060, which is longer than the specified 1000\n",
      "Created a chunk of size 1725, which is longer than the specified 1000\n",
      "Created a chunk of size 1125, which is longer than the specified 1000\n",
      "Created a chunk of size 1170, which is longer than the specified 1000\n",
      "Created a chunk of size 1094, which is longer than the specified 1000\n",
      "Created a chunk of size 1536, which is longer than the specified 1000\n",
      "Created a chunk of size 1837, which is longer than the specified 1000\n",
      "Created a chunk of size 1900, which is longer than the specified 1000\n",
      "Created a chunk of size 2007, which is longer than the specified 1000\n",
      "Created a chunk of size 1313, which is longer than the specified 1000\n",
      "Created a chunk of size 1212, which is longer than the specified 1000\n",
      "Created a chunk of size 1779, which is longer than the specified 1000\n",
      "Created a chunk of size 1184, which is longer than the specified 1000\n",
      "Created a chunk of size 1045, which is longer than the specified 1000\n"
     ]
    }
   ],
   "source": [
    "text_splitter = CharacterTextSplitter(chunk_size=1000, chunk_overlap=0)\n",
    "documents = text_splitter.split_documents(raw_documents)\n",
    "db = Chroma.from_documents(documents, embedding_model)"
   ]
  },
  {
   "cell_type": "code",
   "execution_count": 6,
   "id": "7411d1bd-604d-40d3-a66c-4ae30f019750",
   "metadata": {},
   "outputs": [],
   "source": [
    "question = \"When was Marcus Aurelius born?\""
   ]
  },
  {
   "cell_type": "code",
   "execution_count": 8,
   "id": "d3470a01-2afc-4e09-a32f-10be92e26b1e",
   "metadata": {},
   "outputs": [],
   "source": [
    "docs = db.similarity_search(question)\n",
    "page_contents = [doc.page_content for doc in docs]\n",
    "prompt = get_question_prompt(question, page_contents[0])"
   ]
  },
  {
   "cell_type": "code",
   "execution_count": 12,
   "id": "6c513e27-5fd8-45b0-97ec-8cd452800a84",
   "metadata": {},
   "outputs": [],
   "source": [
    "from langchain.docstore.document import Document\n",
    "\n",
    "doc =  Document(page_content=page_contents[0], metadata={\"source\": \"local\"})"
   ]
  },
  {
   "cell_type": "code",
   "execution_count": 14,
   "id": "b87996d8-98c9-4393-8e1c-150bb78be412",
   "metadata": {},
   "outputs": [],
   "source": [
    "\n",
    "text_splitter2 = CharacterTextSplitter(chunk_size=200, chunk_overlap=0)\n",
    "documents = text_splitter2.split_documents([doc])\n",
    "db = Chroma.from_documents(documents, embedding_model)"
   ]
  },
  {
   "cell_type": "code",
   "execution_count": 16,
   "id": "56bf57c4-08ef-4aca-8572-8aa553733fdb",
   "metadata": {},
   "outputs": [],
   "source": [
    "docs = db.similarity_search(question)\n",
    "page_contents = [doc.page_content for doc in docs]"
   ]
  },
  {
   "cell_type": "code",
   "execution_count": 18,
   "id": "5fb3b08d-0961-4d47-bdea-6a5c2e5dfe2c",
   "metadata": {},
   "outputs": [
    {
     "data": {
      "text/plain": [
       "\"MARCUS AURELIUS ANTONINUS was born on April 26, A.D. 121. His real name\\nwas M. Annius Verus, and he was sprung of a noble family which claimed\\ndescent from Numa, second King of Rome. Thus the most religious of\\nemperors came of the blood of the most pious of early kings. His father,\\nAnnius Verus, had held high office in Rome, and his grandfather, of\\nthe same name, had been thrice Consul. Both his parents died young, but\\nMarcus held them in loving remembrance. On his father's death Marcus\\nwas adopted by his grandfather, the consular Annius Verus, and there was\\ndeep love between these two. On the very first page of his book Marcus\\ngratefully declares how of his grandfather he had learned to be gentle\\nand meek, and to refrain from all anger and passion. The Emperor Hadrian\\ndivined the fine character of the lad, whom he used to call not Verus\\nbut Verissimus, more Truthful than his own name. He advanced Marcus to\\nequestrian rank when six years of age, and at the age of eight made him\\na member of the ancient Salian priesthood. The boy's aunt, Annia Galeria\\nFaustina, was married to Antoninus Pius, afterwards emperor. Hence it\\ncame about that Antoninus, having no son, adopted Marcus, changing his\\nname to that which he is known by, and betrothed him to his daughter\\nFaustina. His education was conducted with all care. The ablest teachers\\nwere engaged for him, and he was trained in the strict doctrine of the\\nStoic philosophy, which was his great delight. He was taught to dress\\nplainly and to live simply, to avoid all softness and luxury. His body\\nwas trained to hardihood by wrestling, hunting, and outdoor games; and\\nthough his constitution was weak, he showed great personal courage to\\nencounter the fiercest boars. At the same time he was kept from the\\nextravagancies of his day. The great excitement in Rome was the strife\\nof the Factions, as they were called, in the circus. The racing drivers\\nused to adopt one of four colours--red, blue, white, or green--and their\\npartisans showed an eagerness in supporting them which nothing could\\nsurpass. Riot and corruption went in the train of the racing chariots;\\nand from all these things Marcus held severely aloof.\""
      ]
     },
     "execution_count": 18,
     "metadata": {},
     "output_type": "execute_result"
    }
   ],
   "source": [
    "page_contents"
   ]
  },
  {
   "cell_type": "code",
   "execution_count": 19,
   "id": "efb5d0aa-a08d-401c-a273-a639e0758372",
   "metadata": {},
   "outputs": [],
   "source": [
    "prompt = get_question_prompt(question, page_contents[0])"
   ]
  },
  {
   "cell_type": "code",
   "execution_count": 20,
   "id": "f22dca33-d229-4f3e-9e5b-416ff7af52b9",
   "metadata": {},
   "outputs": [
    {
     "ename": "NameError",
     "evalue": "name 'self' is not defined",
     "output_type": "error",
     "traceback": [
      "\u001b[0;31m---------------------------------------------------------------------------\u001b[0m",
      "\u001b[0;31mNameError\u001b[0m                                 Traceback (most recent call last)",
      "Cell \u001b[0;32mIn[20], line 1\u001b[0m\n\u001b[0;32m----> 1\u001b[0m result \u001b[38;5;241m=\u001b[39m \u001b[38;5;28;43mself\u001b[39;49m\u001b[38;5;241m.\u001b[39mmodel(prompt, temperature\u001b[38;5;241m=\u001b[39m\u001b[38;5;241m0.0\u001b[39m, max_tokens\u001b[38;5;241m=\u001b[39m\u001b[38;5;241m1024\u001b[39m)\n",
      "\u001b[0;31mNameError\u001b[0m: name 'self' is not defined"
     ]
    }
   ],
   "source": [
    "result = self.model(prompt, temperature=0.0, max_tokens=1024)"
   ]
  },
  {
   "cell_type": "code",
   "execution_count": null,
   "id": "28ea7815-79d8-456c-994a-7c9210f02e03",
   "metadata": {},
   "outputs": [],
   "source": []
  }
 ],
 "metadata": {
  "kernelspec": {
   "display_name": "Python 3 (ipykernel)",
   "language": "python",
   "name": "python3"
  },
  "language_info": {
   "codemirror_mode": {
    "name": "ipython",
    "version": 3
   },
   "file_extension": ".py",
   "mimetype": "text/x-python",
   "name": "python",
   "nbconvert_exporter": "python",
   "pygments_lexer": "ipython3",
   "version": "3.10.4"
  }
 },
 "nbformat": 4,
 "nbformat_minor": 5
}
